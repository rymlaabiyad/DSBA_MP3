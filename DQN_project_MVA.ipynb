{
 "cells": [
  {
   "cell_type": "markdown",
   "metadata": {},
   "source": [
    "**You may need to install [OpenCV](https://pypi.python.org/pypi/opencv-python) and [scikit-video](http://www.scikit-video.org/stable/).**"
   ]
  },
  {
   "cell_type": "code",
   "execution_count": 53,
   "metadata": {},
   "outputs": [],
   "source": [
    "import keras\n",
    "import numpy as np\n",
    "import io\n",
    "import base64\n",
    "from IPython.display import HTML\n",
    "\n",
    "import skvideo\n",
    "skvideo.setFFmpegPath(\"/home/rym/ffmpeg/\")\n",
    "import skvideo.io\n",
    "\n",
    "import cv2\n",
    "import json\n",
    "\n",
    "from keras.models import Sequential,model_from_json\n",
    "from keras.layers.core import Dense\n",
    "from keras.optimizers import sgd, Adam\n",
    "from keras.layers import Conv2D, MaxPooling2D, Activation, AveragePooling2D, Reshape, BatchNormalization, Dropout, Flatten"
   ]
  },
  {
   "cell_type": "markdown",
   "metadata": {},
   "source": [
    "# MiniProject #3: Deep Reinforcement Learning"
   ]
  },
  {
   "cell_type": "markdown",
   "metadata": {},
   "source": [
    "__Notations__: $E_p$ is the expectation under probability $p$. Please justify each of your answer and widely comment your code."
   ]
  },
  {
   "cell_type": "markdown",
   "metadata": {},
   "source": [
    "# Context"
   ]
  },
  {
   "cell_type": "markdown",
   "metadata": {},
   "source": [
    "In a reinforcement learning algorithm, we modelize each step $t$ as an action $a_t$ obtained from a state $s_t$, i.e. $\\{(a_{t},s_{t})_{t\\leq T}\\}$ having the Markov property. We consider a discount factor $\\gamma \\in [0,1]$ that ensures convergence. The goal is to find among all the policies $\\pi$, one that maximizes the expected reward:\n",
    "\n",
    "\\begin{equation*}\n",
    "R(\\pi)=\\sum_{t\\leq T}E_{p^{\\pi}}[\\gamma^t r(s_{t},a_{t})] \\> ,\n",
    "\\end{equation*}\n",
    "\n",
    "where: \n",
    "\\begin{equation*}p^{\\pi}(a_{0},a_{1},s_{1},...,a_{T},s_{T})=p(a_{0})\\prod_{t=1}^{T}\\pi(a_{t}|s_{t})p(s_{t+1}|s_{t},a_{t}) \\> .\n",
    "\\end{equation*}\n",
    "\n",
    "We note the $Q$-function:\n",
    "\n",
    "\\begin{equation*}Q^\\pi(s,a)=E_{p^{\\pi}}[\\sum_{t\\leq T}\\gamma^{t}r(s_{t},a_{t})|s_{0}=s,a_{0}=a] \\> .\n",
    "\\end{equation*}\n",
    "\n",
    "Thus, the optimal Q function is:\n",
    "\\begin{equation*}\n",
    "Q^*(s,a)=\\max_{\\pi}Q^\\pi(s,a) \\> .\n",
    "\\end{equation*}\n",
    "\n",
    "In this project, we will apply the deep reinforcement learning techniques to a simple game: an agent will have to learn from scratch a policy that will permit it maximizing a reward."
   ]
  },
  {
   "cell_type": "markdown",
   "metadata": {},
   "source": [
    "## The environment, the agent and the game"
   ]
  },
  {
   "cell_type": "markdown",
   "metadata": {},
   "source": [
    "### The environment"
   ]
  },
  {
   "cell_type": "markdown",
   "metadata": {},
   "source": [
    "```Environment``` is an abstract class that represents the states, rewards, and actions to obtain the new state."
   ]
  },
  {
   "cell_type": "code",
   "execution_count": 54,
   "metadata": {},
   "outputs": [],
   "source": [
    "class Environment(object):\n",
    "    def __init__(self):\n",
    "        pass\n",
    "\n",
    "    def act(self, act):\n",
    "        \"\"\"\n",
    "        One can act on the environment and obtain its reaction:\n",
    "        - the new state\n",
    "        - the reward of the new state\n",
    "        - should we continue the game?\n",
    "\n",
    "        :return: state, reward, game_over\n",
    "        \"\"\"\n",
    "        pass\n",
    "\n",
    "\n",
    "    def reset(self):\n",
    "        \"\"\"\n",
    "        Reinitialize the environment to a random state and returns\n",
    "        the original state\n",
    "\n",
    "        :return: state\n",
    "        \"\"\"\n",
    "        pass\n",
    "    \n",
    "    def draw(self):\n",
    "        \"\"\"\n",
    "        Visualize in the console or graphically the current state\n",
    "        \"\"\"\n",
    "        pass"
   ]
  },
  {
   "cell_type": "markdown",
   "metadata": {},
   "source": [
    "The method ```act``` allows to act on the environment at a given state $s_t$ (stored internally), via action $a_t$. The method will return the new state $s_{t+1}$, the reward $r(s_{t},a_{t})$ and determines if $t\\leq T$ (*game_over*).\n",
    "\n",
    "The method ```reset``` simply reinitializes the environment to a random state $s_0$.\n",
    "\n",
    "The method ```draw``` displays the current state $s_t$ (this is useful to check the behavior of the Agent).\n",
    "\n",
    "We modelize $s_t$ as a tensor, while $a_t$ is an integer."
   ]
  },
  {
   "cell_type": "markdown",
   "metadata": {},
   "source": [
    "### The Agent"
   ]
  },
  {
   "cell_type": "markdown",
   "metadata": {},
   "source": [
    "The goal of the ```Agent``` is to interact with the ```Environment``` by proposing actions $a_t$ obtained from a given state $s_t$ to attempt to maximize its __reward__ $r(s_t,a_t)$. We propose the following abstract class:"
   ]
  },
  {
   "cell_type": "code",
   "execution_count": 55,
   "metadata": {},
   "outputs": [],
   "source": [
    "class Agent(object):\n",
    "    def __init__(self, epsilon=0.1, n_action=4):\n",
    "        self.epsilon = epsilon\n",
    "        self.n_action = n_action\n",
    "    \n",
    "    def set_epsilon(self,e):\n",
    "        self.epsilon = e\n",
    "\n",
    "    def act(self,s,train=True):\n",
    "        \"\"\" This function should return the next action to do:\n",
    "        an integer between 0 and 4 (not included) with a random exploration of epsilon\"\"\"\n",
    "        if train:\n",
    "            if np.random.rand() <= self.epsilon:\n",
    "                a = np.random.randint(0, self.n_action, size=1)[0]\n",
    "            else:\n",
    "                a = self.learned_act(s)\n",
    "        else: # in some cases, this can improve the performance.. remove it if poor performances\n",
    "            a = self.learned_act(s)\n",
    "\n",
    "        return a\n",
    "\n",
    "    def learned_act(self,s):\n",
    "        \"\"\" Act via the policy of the agent, from a given state s\n",
    "        it proposes an action a\"\"\"\n",
    "        pass\n",
    "\n",
    "    def reinforce(self, s, n_s, a, r, game_over_):\n",
    "        \"\"\" This function is the core of the learning algorithm. \n",
    "        It takes as an input the current state s_, the next state n_s_\n",
    "        the action a_ used to move from s_ to n_s_ and the reward r_.\n",
    "        \n",
    "        Its goal is to learn a policy.\n",
    "        \"\"\"\n",
    "        pass\n",
    "\n",
    "    def save(self):\n",
    "        \"\"\" This function returns basic stats if applicable: the\n",
    "        loss and/or the model\"\"\"\n",
    "        pass\n",
    "\n",
    "    def load(self):\n",
    "        \"\"\" This function allows to restore a model\"\"\"\n",
    "        pass"
   ]
  },
  {
   "cell_type": "markdown",
   "metadata": {},
   "source": [
    "***\n",
    "__Question 1__:\n",
    "Explain the function act. Why is ```epsilon``` essential?"
   ]
  },
  {
   "cell_type": "markdown",
   "metadata": {},
   "source": [
    "During training, the act function will call a random number between 0 and 1 (1, excluded). If that number is less or equal to epsilon, the agent will explore a random action. Else, it will base its action choice on what it has learned before, by calling the learned_act function.\n",
    "\n",
    "epsilon is what defines how often the agent will exploit (choose an action based on what it has learned before) or explore.\n",
    "\n",
    "A higher epsilon means more exploration."
   ]
  },
  {
   "cell_type": "markdown",
   "metadata": {},
   "source": [
    "***\n",
    "### The Game"
   ]
  },
  {
   "cell_type": "markdown",
   "metadata": {},
   "source": [
    "The ```Agent``` and the ```Environment``` work in an interlaced way as in the following (take some time to understand this code as it is the core of the project)\n",
    "\n",
    "```python\n",
    "\n",
    "epoch = 300\n",
    "env = Environment()\n",
    "agent = Agent()\n",
    "\n",
    "\n",
    "# Number of won games\n",
    "score = 0\n",
    "loss = 0\n",
    "\n",
    "\n",
    "for e in range(epoch):\n",
    "    # At each epoch, we restart to a fresh game and get the initial state\n",
    "    state = env.reset()\n",
    "    # This assumes that the games will end\n",
    "    game_over = False\n",
    "\n",
    "    win = 0\n",
    "    lose = 0\n",
    "    \n",
    "    while not game_over:\n",
    "        # The agent performs an action\n",
    "        action = agent.act(state)\n",
    "\n",
    "        # Apply an action to the environment, get the next state, the reward\n",
    "        # and if the games end\n",
    "        prev_state = state\n",
    "        state, reward, game_over = env.act(action)\n",
    "\n",
    "        # Update the counters\n",
    "        if reward > 0:\n",
    "            win = win + reward\n",
    "        if reward < 0:\n",
    "            lose = lose -reward\n",
    "\n",
    "        # Apply the reinforcement strategy\n",
    "        loss = agent.reinforce(prev_state, state,  action, reward, game_over)\n",
    "\n",
    "    # Save as a mp4\n",
    "    if e % 10 == 0:\n",
    "        env.draw(e)\n",
    "\n",
    "    # Update stats\n",
    "    score += win-lose\n",
    "\n",
    "    print(\"Epoch {:03d}/{:03d} | Loss {:.4f} | Win/lose count {}/{} ({})\"\n",
    "          .format(e, epoch, loss, win, lose, win-lose))\n",
    "    agent.save()\n",
    "```"
   ]
  },
  {
   "cell_type": "markdown",
   "metadata": {},
   "source": [
    "# The game, *eat cheese*"
   ]
  },
  {
   "cell_type": "markdown",
   "metadata": {},
   "source": [
    "A rat runs on an island and tries to eat as much as possible. The island is subdivided into $N\\times N$ cells, in which there are cheese (+0.5) and poisonous cells (-1). The rat has a visibility of 2 cells (thus it can see $5^2$ cells). The rat is given a time $T$ to accumulate as much food as possible. It can perform 4 actions: going up, down, left, right. \n",
    "\n",
    "The goal is to code an agent to solve this task that will learn by trial and error. We propose the following environment:"
   ]
  },
  {
   "cell_type": "code",
   "execution_count": 56,
   "metadata": {},
   "outputs": [],
   "source": [
    "class Environment(object):\n",
    "    def __init__(self, grid_size=10, max_time=500, temperature=0.1):\n",
    "        grid_size = grid_size+4\n",
    "        self.grid_size = grid_size\n",
    "        self.max_time = max_time\n",
    "        self.temperature = temperature\n",
    "\n",
    "        #board on which one plays\n",
    "        self.board = np.zeros((grid_size,grid_size))\n",
    "        self.position = np.zeros((grid_size,grid_size))\n",
    "\n",
    "        # coordinate of the cat (what cat???)\n",
    "        self.x = 0\n",
    "        self.y = 1\n",
    "\n",
    "        # self time\n",
    "        self.t = 0\n",
    "\n",
    "        self.scale=16\n",
    "\n",
    "        self.to_draw = np.zeros((max_time+2, grid_size*self.scale, grid_size*self.scale, 3))\n",
    "\n",
    "\n",
    "    def draw(self,e):\n",
    "        skvideo.io.vwrite(str(e) + '.mp4', self.to_draw)\n",
    "\n",
    "    def get_frame(self,t):\n",
    "        b = np.zeros((self.grid_size,self.grid_size,3))+128\n",
    "        b[self.board>0,0] = 256\n",
    "        b[self.board < 0, 2] = 256\n",
    "        b[self.x,self.y,:]=256\n",
    "        b[-2:,:,:]=0\n",
    "        b[:,-2:,:]=0\n",
    "        b[:2,:,:]=0\n",
    "        b[:,:2,:]=0\n",
    "        \n",
    "        b =  cv2.resize(b, None, fx=self.scale, fy=self.scale, interpolation=cv2.INTER_NEAREST)\n",
    "\n",
    "        self.to_draw[t,:,:,:]=b\n",
    "\n",
    "\n",
    "    def act(self, action):\n",
    "        \"\"\"This function returns the new state, reward and decides if the\n",
    "        game ends.\"\"\"\n",
    "\n",
    "        self.get_frame(int(self.t))\n",
    "\n",
    "        self.position = np.zeros((self.grid_size, self.grid_size))\n",
    "\n",
    "        self.position[0:2,:]= -1\n",
    "        self.position[:,0:2] = -1\n",
    "        self.position[-2:, :] = -1\n",
    "        self.position[:, -2:] = -1\n",
    "\n",
    "        self.position[self.x, self.y] = 1\n",
    "        if action == 0:\n",
    "            if self.x == self.grid_size-3:\n",
    "                self.x = self.x-1\n",
    "            else:\n",
    "                self.x = self.x + 1\n",
    "        elif action == 1:\n",
    "            if self.x == 2:\n",
    "                self.x = self.x+1\n",
    "            else:\n",
    "                self.x = self.x-1\n",
    "        elif action == 2:\n",
    "            if self.y == self.grid_size - 3:\n",
    "                self.y = self.y - 1\n",
    "            else:\n",
    "                self.y = self.y + 1\n",
    "        elif action == 3:\n",
    "            if self.y == 2:\n",
    "                self.y = self.y + 1\n",
    "            else:\n",
    "                self.y = self.y - 1\n",
    "        else:\n",
    "            RuntimeError('Error: action not recognized')\n",
    "\n",
    "        self.t = self.t + 1\n",
    "        reward = self.board[self.x, self.y]\n",
    "        self.board[self.x, self.y] = 0\n",
    "        game_over = self.t > self.max_time\n",
    "        state = np.concatenate((self.board.reshape(self.grid_size, self.grid_size,1),\n",
    "                        self.position.reshape(self.grid_size, self.grid_size,1)),axis=2)\n",
    "        state = state[self.x-2:self.x+3,self.y-2:self.y+3,:]\n",
    "\n",
    "        return state, reward, game_over\n",
    "\n",
    "    def reset(self):\n",
    "        \"\"\"This function resets the game and returns the initial state\"\"\"\n",
    "\n",
    "        self.x = np.random.randint(3, self.grid_size-3, size=1)[0]\n",
    "        self.y = np.random.randint(3, self.grid_size-3, size=1)[0]\n",
    "\n",
    "\n",
    "        bonus = 0.5*np.random.binomial(1,self.temperature,size=self.grid_size**2)\n",
    "        bonus = bonus.reshape(self.grid_size,self.grid_size)\n",
    "\n",
    "        malus = -1.0*np.random.binomial(1,self.temperature,size=self.grid_size**2)\n",
    "        malus = malus.reshape(self.grid_size, self.grid_size)\n",
    "\n",
    "        self.to_draw = np.zeros((self.max_time+2, self.grid_size*self.scale, self.grid_size*self.scale, 3))\n",
    "\n",
    "\n",
    "        malus[bonus>0]=0\n",
    "\n",
    "        self.board = bonus + malus\n",
    "\n",
    "        self.position = np.zeros((self.grid_size, self.grid_size))\n",
    "        self.position[0:2,:]= -1\n",
    "        self.position[:,0:2] = -1\n",
    "        self.position[-2:, :] = -1\n",
    "        self.position[:, -2:] = -1\n",
    "        self.board[self.x,self.y] = 0\n",
    "        self.t = 0\n",
    "\n",
    "        state = np.concatenate((\n",
    "                               self.board.reshape(self.grid_size, self.grid_size,1),\n",
    "                        self.position.reshape(self.grid_size, self.grid_size,1)),axis=2)\n",
    "\n",
    "        state = state[self.x - 2:self.x + 3, self.y - 2:self.y + 3, :]\n",
    "        return state"
   ]
  },
  {
   "cell_type": "markdown",
   "metadata": {},
   "source": [
    "The following elements are important because they correspond to the hyper parameters for this project:"
   ]
  },
  {
   "cell_type": "code",
   "execution_count": 57,
   "metadata": {},
   "outputs": [],
   "source": [
    "# parameters\n",
    "size = 13\n",
    "T=200\n",
    "temperature=0.3\n",
    "epochs_train=11 # set small when debugging\n",
    "epochs_test=11 # set small when debugging\n",
    "\n",
    "# display videos\n",
    "def display_videos(name):\n",
    "    video = io.open(name, 'r+b').read()\n",
    "    encoded = base64.b64encode(video)\n",
    "    return '''<video alt=\"test\" controls>\n",
    "                <source src=\"data:video/mp4;base64,{0}\" type=\"video/mp4\" />\n",
    "             </video>'''.format(encoded.decode('ascii'))"
   ]
  },
  {
   "cell_type": "markdown",
   "metadata": {},
   "source": [
    "__Question 2__ Explain the use of the arrays ```position``` and ```board```."
   ]
  },
  {
   "cell_type": "markdown",
   "metadata": {},
   "source": [
    "* board :\n",
    "    \n",
    "The board array represents the board of the game. \n",
    "\n",
    "It has grid_size rows and grid_size columns, each containing a value 0 (empty cell), 0.5 (cheese cell), or -1 (poison cell). \n",
    "\n",
    "These values are assigned to cells randomly in the reset function.\n",
    "\n",
    "After the rat passes through a non-empty cell, it will eat the cheese or the poison, so the cell becomes empty, which is why its value is set to 0 in the function act :\n",
    "    \n",
    "    self.board[self.x,self.y] = 0\n",
    "\n",
    "* position :\n",
    "    \n",
    "The position array represents the rat's position. \n",
    "\n",
    "The top and bottom 2 rows are filled with -1, as well as the extreme right and left 2 columns, which might represent borders for the board."
   ]
  },
  {
   "cell_type": "markdown",
   "metadata": {},
   "source": [
    "## Random Agent"
   ]
  },
  {
   "cell_type": "markdown",
   "metadata": {},
   "source": [
    "***\n",
    "__Question 3__ Implement a random Agent (only ```learned_act``` needs to be implemented):"
   ]
  },
  {
   "cell_type": "code",
   "execution_count": 58,
   "metadata": {},
   "outputs": [],
   "source": [
    "class RandomAgent(Agent):\n",
    "    def __init__(self):\n",
    "        super(RandomAgent, self).__init__()\n",
    "        pass\n",
    "\n",
    "    def learned_act(self, s):\n",
    "        return np.random.randint(self.n_action)"
   ]
  },
  {
   "cell_type": "markdown",
   "metadata": {},
   "source": [
    "***\n",
    "***\n",
    "__Question 4__ Visualize the game moves. You need to fill in the following function for the evaluation:"
   ]
  },
  {
   "cell_type": "code",
   "execution_count": 59,
   "metadata": {},
   "outputs": [],
   "source": [
    "def test(agent,env,epochs,prefix=''):\n",
    "    # Number of won games\n",
    "    score = 0\n",
    "        \n",
    "    for e in range(epochs):\n",
    "        \n",
    "        ##### FILL IN HERE\n",
    "        # At each epoch, we restart to a fresh game and get the initial state\n",
    "        state = env.reset()\n",
    "        # This assumes that the games will end\n",
    "        game_over = False\n",
    "\n",
    "        win = 0\n",
    "        lose = 0\n",
    "\n",
    "        while not game_over:\n",
    "            # The agent performs an action\n",
    "            action = agent.act(state)\n",
    "\n",
    "            # Apply an action to the environment, get the next state, the reward\n",
    "            # and if the games end\n",
    "            prev_state = state\n",
    "            state, reward, game_over = env.act(action)\n",
    "\n",
    "            # Update the counters\n",
    "            if reward > 0:\n",
    "                win = win + reward\n",
    "            if reward < 0:\n",
    "                lose = lose -reward\n",
    "        \n",
    "        # Save as a mp4\n",
    "        env.draw(prefix+str(e))\n",
    "\n",
    "        # Update stats\n",
    "        score = score + win-lose\n",
    "\n",
    "        print(\"Win/lose count {}/{}. Average score ({})\"\n",
    "              .format(win, lose, score/(1+e)))\n",
    "    print('Final score: '+str(score/epochs))"
   ]
  },
  {
   "cell_type": "code",
   "execution_count": 60,
   "metadata": {},
   "outputs": [
    {
     "name": "stdout",
     "output_type": "stream",
     "text": [
      "Win/lose count 9.0/6.0. Average score (3.0)\n",
      "Win/lose count 12.0/14.0. Average score (0.5)\n",
      "Win/lose count 8.5/14.0. Average score (-1.5)\n",
      "Win/lose count 9.5/16.0. Average score (-2.75)\n",
      "Win/lose count 3.5/12.0. Average score (-3.9)\n",
      "Win/lose count 7.5/13.0. Average score (-4.166666666666667)\n",
      "Win/lose count 13.5/18.0. Average score (-4.214285714285714)\n",
      "Win/lose count 9.5/17.0. Average score (-4.625)\n",
      "Win/lose count 13.5/17.0. Average score (-4.5)\n",
      "Win/lose count 13.0/15.0. Average score (-4.25)\n",
      "Win/lose count 8.5/12.0. Average score (-4.181818181818182)\n",
      "Final score: -4.181818181818182\n"
     ]
    },
    {
     "data": {
      "text/html": [
       "<video alt=\"test\" controls>\n",
       "                <source src=\"data:video/mp4;base64,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\" type=\"video/mp4\" />\n",
       "             </video>"
      ],
      "text/plain": [
       "<IPython.core.display.HTML object>"
      ]
     },
     "execution_count": 60,
     "metadata": {},
     "output_type": "execute_result"
    }
   ],
   "source": [
    "# Initialize the game\n",
    "env = Environment(grid_size=size, max_time=T,temperature=temperature)\n",
    "\n",
    "# Initialize the agent!\n",
    "agent = RandomAgent()\n",
    "\n",
    "test(agent,env,epochs_test,prefix='random')\n",
    "HTML(display_videos('random0.mp4'))"
   ]
  },
  {
   "cell_type": "markdown",
   "metadata": {},
   "source": [
    "***\n",
    "## DQN"
   ]
  },
  {
   "cell_type": "markdown",
   "metadata": {},
   "source": [
    "Let us assume here that $T=\\infty$.\n",
    "\n",
    "***\n",
    "__Question 5__ Let $\\pi$ be a policy, show that:\n",
    "\n",
    "\\begin{equation*}\n",
    "Q^{\\pi}(s,a)=E_{(s',a')\\sim p(.|s,a)}[r(s,a)+\\gamma Q^{\\pi}(s',a')]\n",
    "\\end{equation*}\n",
    "\n",
    "Then, show that for the optimal policy $\\pi^*$ (we assume its existence), the following holds: \n",
    "\n",
    "\\begin{equation*}\n",
    "Q^{*}(s,a)=E_{s'\\sim \\pi^*(.|s,a)}[r(s,a)+\\gamma\\max_{a'}Q^{*}(s',a')].\n",
    "\\end{equation*}\n",
    "Finally, deduce that a plausible objective is:\n",
    "\n",
    "\\begin{equation*}\n",
    "\\mathcal{L}(\\theta)=E_{s' \\sim \\pi^*(.|s,a)}\\Vert r+\\gamma\\max\\max_{a'}Q(s',a',\\theta)-Q(s,a,\\theta)\\Vert^{2}.\n",
    "\\end{equation*}\n",
    "\n",
    "\n"
   ]
  },
  {
   "cell_type": "markdown",
   "metadata": {},
   "source": []
  },
  {
   "cell_type": "markdown",
   "metadata": {},
   "source": [
    "***\n",
    "The DQN-learning algorithm relies on these derivations to train the parameters $\\theta$ of a Deep Neural Network:\n",
    "\n",
    "1. At the state $s_t$, select the action $a_t$ with best reward using $Q_t$ and store the results;\n",
    "\n",
    "2. Obtain the new state $s_{t+1}$ from the environment $p$;\n",
    "\n",
    "3. Store $(s_t,a_t,s_{t+1})$;\n",
    "\n",
    "4. Obtain $Q_{t+1}$ by minimizing  $\\mathcal{L}$ from a recovered batch from the previously stored results.\n",
    "\n",
    "***\n",
    "__Question 6__ Implement the class ```Memory``` that stores moves (in a replay buffer) via ```remember``` and provides a ```random_access``` to these. Specify a maximum memory size to avoid side effects. You can for example use a ```list()``` and set by default ```max_memory=100```."
   ]
  },
  {
   "cell_type": "code",
   "execution_count": 61,
   "metadata": {},
   "outputs": [],
   "source": [
    "class Memory(object):\n",
    "    def __init__(self, max_memory=100):\n",
    "        self.max_memory = max_memory\n",
    "        self.memory = list()\n",
    "\n",
    "    def remember(self, m):\n",
    "        if len(self.memory) >= self.max_memory:\n",
    "            del self.memory[0]\n",
    "        self.memory.append(m)\n",
    "\n",
    "    def random_access(self, n):\n",
    "        ind = np.random.randint(len(self.memory), size = n)\n",
    "        return [self.memory[i] for i in ind]"
   ]
  },
  {
   "cell_type": "markdown",
   "metadata": {},
   "source": [
    "***\n",
    "The pipeline we will use for training is given below:"
   ]
  },
  {
   "cell_type": "code",
   "execution_count": 63,
   "metadata": {},
   "outputs": [],
   "source": [
    "def train(agent,env,epoch,prefix=''):\n",
    "    # Number of won games\n",
    "    score = 0\n",
    "    loss = 0\n",
    "\n",
    "    for e in range(epoch):\n",
    "        # At each epoch, we restart to a fresh game and get the initial state\n",
    "        state = env.reset()\n",
    "        \n",
    "        # This assumes that the games will terminate\n",
    "        game_over = False\n",
    "\n",
    "        win = 0\n",
    "        lose = 0\n",
    "\n",
    "        while not game_over:\n",
    "            # The agent performs an action\n",
    "            action = agent.act(state)\n",
    "\n",
    "            # Apply an action to the environment, get the next state, the reward\n",
    "            # and if the games end\n",
    "            prev_state = state\n",
    "            state, reward, game_over = env.act(action)\n",
    "\n",
    "            # Update the counters\n",
    "            if reward > 0:\n",
    "                win = win + reward\n",
    "            if reward < 0:\n",
    "                lose = lose -reward\n",
    "\n",
    "            # Apply the reinforcement strategy\n",
    "            loss = agent.reinforce(prev_state, state,  action, reward, game_over)\n",
    "\n",
    "        # Save as a mp4\n",
    "        if e%10 == 0:\n",
    "            env.draw(prefix+str(e))\n",
    "\n",
    "        # Update stats\n",
    "        score += win-lose\n",
    "\n",
    "        print(\"Epoch {:03d}/{:03d} | Loss {:.4f} | Win/lose count {}/{} ({})\"\n",
    "              .format(e, epoch, loss, win, lose, win-lose))\n",
    "        agent.save(name_weights=prefix+'model.h5',name_model=prefix+'model.json')"
   ]
  },
  {
   "cell_type": "markdown",
   "metadata": {},
   "source": [
    "***\n",
    "__Question 7__ Implement the DQN training algorithm using a cascade of fully connected layers. You can use different learning rate, batch size or memory size parameters. In particular, the loss might oscillate while the player will start to win the games. You have to find a good criterium."
   ]
  },
  {
   "cell_type": "code",
   "execution_count": 64,
   "metadata": {},
   "outputs": [],
   "source": [
    "class DQN(Agent):\n",
    "    def __init__(self, grid_size,  epsilon = 0.1, memory_size=100, batch_size = 16,n_state=2):\n",
    "        super(DQN, self).__init__(epsilon = epsilon)\n",
    "\n",
    "        # Discount for Q learning\n",
    "        self.discount = 0.99\n",
    "        \n",
    "        self.grid_size = grid_size\n",
    "        \n",
    "        # number of state\n",
    "        self.n_state = n_state\n",
    "\n",
    "        # Memory\n",
    "        self.memory = Memory(memory_size)\n",
    "        \n",
    "        # Batch size when learning\n",
    "        self.batch_size = batch_size\n",
    "\n",
    "    def learned_act(self, s):\n",
    "        #########\n",
    "        s = np.reshape(s, [1,5,5,self.n_state])\n",
    "        act_values = self.model.predict(s)\n",
    "        return np.argmax(act_values[0])\n",
    "\n",
    "    def reinforce(self, s_, n_s_, a_, r_, game_over_):\n",
    "        # Two steps: first memorize the states, second learn from the pool\n",
    "\n",
    "        # Store transition in D\n",
    "        s_ = np.reshape(s_,[1,5,5,self.n_state])\n",
    "        n_s_ = np.reshape(n_s_,[1,5,5,self.n_state])\n",
    "        self.memory.remember([s_, n_s_, a_, r_, game_over_])\n",
    "        \n",
    "        input_states = np.zeros((self.batch_size, 5,5,self.n_state))\n",
    "        target_q = np.zeros((self.batch_size, 4))\n",
    "        \n",
    "        # Sample random minibatch of transitions from D\n",
    "        minibatch = self.memory.random_access(self.batch_size)\n",
    "        \n",
    "        for i in range(self.batch_size):\n",
    "            ######## FILL IN\n",
    "            s_= minibatch[i][0]\n",
    "            n_s_= minibatch[i][1]\n",
    "            a_ = minibatch[i][2]\n",
    "            r_= minibatch[i][3]\n",
    "            game_over_= minibatch[i][4]\n",
    "            \n",
    "            input_states[i]= s_\n",
    "            \n",
    "            if game_over_:\n",
    "                ######## FILL IN\n",
    "                target = r_\n",
    "            else:\n",
    "                ######## FILL IN\n",
    "                target = (r_ + self.discount * np.amax(self.model.predict(n_s_)[0]))\n",
    "            \n",
    "            target_f = self.model.predict(s_)\n",
    "            target_f[0][a_] = target\n",
    "            self.model.fit(s_, target_f, epochs=1, verbose=0)\n",
    "            \n",
    "            target_q[i]=target_f\n",
    "                \n",
    "        ######## FILL IN\n",
    "        # HINT: Clip the target to avoid exploiding gradients.. -- clipping is a bit tighter\n",
    "        target_q = np.clip(target_q, -3, 3)\n",
    "\n",
    "        l = self.model.train_on_batch(input_states, target_q)\n",
    "\n",
    "\n",
    "        return l\n",
    "\n",
    "    def save(self,name_weights='model.h5',name_model='model.json'):\n",
    "        self.model.save_weights(name_weights, overwrite=True)\n",
    "        with open(name_model, \"w\") as outfile:\n",
    "            json.dump(self.model.to_json(), outfile)\n",
    "            \n",
    "    def load(self,name_weights='model.h5',name_model='model.json'):\n",
    "        with open(name_model, \"r\") as jfile:\n",
    "            model = model_from_json(json.load(jfile))\n",
    "        model.load_weights(name_weights)\n",
    "        model.compile(\"sgd\", \"mse\")\n",
    "        self.model = model\n",
    "\n",
    "            \n",
    "class DQN_FC(DQN):\n",
    "    def __init__(self, *args, lr=0.1,**kwargs):\n",
    "        super(DQN_FC, self).__init__( *args,**kwargs)\n",
    "        \n",
    "        # NN Model\n",
    "        \n",
    "        ####### FILL IN\n",
    "        state_size = 50\n",
    "        \n",
    "        model = Sequential()\n",
    "        model.add(Reshape((state_size,), input_shape=(5,5,self.n_state)))\n",
    "        model.add(Dense(128, input_dim=state_size, activation='relu'))\n",
    "        model.add(Dense(64, activation='relu'))\n",
    "        model.add(Dense(16, activation='relu'))\n",
    "        model.add(Dense(4, activation='linear'))\n",
    "        \n",
    "        #model.compile(sgd(lr=lr, decay=1e-4, momentum=0.0), \"mse\")\n",
    "        model.compile(loss='mse', optimizer=Adam(lr=lr))\n",
    "        self.model = model       "
   ]
  },
  {
   "cell_type": "code",
   "execution_count": 65,
   "metadata": {},
   "outputs": [
    {
     "name": "stdout",
     "output_type": "stream",
     "text": [
      "Epoch 000/011 | Loss 0.0038 | Win/lose count 3.0/0 (3.0)\n",
      "Epoch 001/011 | Loss 0.0100 | Win/lose count 4.5/11.0 (-6.5)\n",
      "Epoch 002/011 | Loss 0.1041 | Win/lose count 14.5/10.0 (4.5)\n",
      "Epoch 003/011 | Loss 0.0281 | Win/lose count 7.0/13.0 (-6.0)\n",
      "Epoch 004/011 | Loss 0.0394 | Win/lose count 11.5/11.0 (0.5)\n",
      "Epoch 005/011 | Loss 0.0618 | Win/lose count 3.0/5.0 (-2.0)\n",
      "Epoch 006/011 | Loss 0.0265 | Win/lose count 3.5/6.0 (-2.5)\n",
      "Epoch 007/011 | Loss 0.0006 | Win/lose count 6.0/14.0 (-8.0)\n",
      "Epoch 008/011 | Loss 0.0819 | Win/lose count 6.0/10.0 (-4.0)\n",
      "Epoch 009/011 | Loss 0.0745 | Win/lose count 10.5/6.0 (4.5)\n",
      "Epoch 010/011 | Loss 0.0352 | Win/lose count 8.0/18.0 (-10.0)\n"
     ]
    },
    {
     "data": {
      "text/html": [
       "<video alt=\"test\" controls>\n",
       "                <source src=\"data:video/mp4;base64,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\" type=\"video/mp4\" />\n",
       "             </video>"
      ],
      "text/plain": [
       "<IPython.core.display.HTML object>"
      ]
     },
     "execution_count": 65,
     "metadata": {},
     "output_type": "execute_result"
    }
   ],
   "source": [
    "env = Environment(grid_size=size, max_time=T, temperature=0.3)\n",
    "agent = DQN_FC(size, lr=.02, epsilon = 0.1, memory_size=2000, batch_size = 32)\n",
    "train(agent, env, epochs_train, prefix='fc_train')\n",
    "HTML(display_videos('fc_train10.mp4'))"
   ]
  },
  {
   "cell_type": "markdown",
   "metadata": {},
   "source": [
    "***\n",
    "***\n",
    "__Question 8__ Implement the DQN training algorithm using a CNN (for example, 2 convolutional layers and one final fully connected layer)."
   ]
  },
  {
   "cell_type": "code",
   "execution_count": 66,
   "metadata": {},
   "outputs": [],
   "source": [
    "class DQN_CNN(DQN):\n",
    "    def __init__(self, *args,lr=0.1,**kwargs):\n",
    "        super(DQN_CNN, self).__init__(*args,**kwargs)\n",
    "        \n",
    "        ###### FILL IN\n",
    "        filters = 32\n",
    "        kernel_size = (2,2)\n",
    "        \n",
    "        model = Sequential()\n",
    "        model.add(Conv2D(filters, kernel_size, input_shape=(5,5,self.n_state), activation='relu'))\n",
    "        model.add(Conv2D(filters, kernel_size, activation='relu'))\n",
    "        model.add(Conv2D(filters, kernel_size, activation='relu'))\n",
    "        model.add(Dropout(0.2))\n",
    "        model.add(Flatten())\n",
    "        model.add(Dense(4, activation='linear'))\n",
    "        \n",
    "        model.compile(sgd(lr=lr, decay=1e-4, momentum=0.0), \"mse\")\n",
    "        #model.compile(loss='mse', optimizer=Adam(lr=lr))\n",
    "        self.model = model"
   ]
  },
  {
   "cell_type": "code",
   "execution_count": 67,
   "metadata": {},
   "outputs": [
    {
     "name": "stdout",
     "output_type": "stream",
     "text": [
      "Epoch 000/011 | Loss 0.0048 | Win/lose count 4.0/4.0 (0.0)\n",
      "Epoch 001/011 | Loss 0.0050 | Win/lose count 2.5/3.0 (-0.5)\n",
      "Epoch 002/011 | Loss 0.0035 | Win/lose count 1.5/5.0 (-3.5)\n",
      "Epoch 003/011 | Loss 0.0206 | Win/lose count 8.0/4.0 (4.0)\n",
      "Epoch 004/011 | Loss 0.0032 | Win/lose count 10.0/4.0 (6.0)\n",
      "Epoch 005/011 | Loss 0.1008 | Win/lose count 7.0/1.0 (6.0)\n",
      "Epoch 006/011 | Loss 0.0340 | Win/lose count 5.0/4.0 (1.0)\n",
      "Epoch 007/011 | Loss 0.0940 | Win/lose count 13.0/6.0 (7.0)\n",
      "Epoch 008/011 | Loss 0.0813 | Win/lose count 19.0/7.0 (12.0)\n",
      "Epoch 009/011 | Loss 0.1016 | Win/lose count 8.0/1.0 (7.0)\n",
      "Epoch 010/011 | Loss 0.1603 | Win/lose count 21.0/5.0 (16.0)\n"
     ]
    },
    {
     "data": {
      "text/html": [
       "<video alt=\"test\" controls>\n",
       "                <source src=\"data:video/mp4;base64,AAAAIGZ0eXBpc29tAAACAGlzb21pc28yYXZjMW1wNDEAAAAIZnJlZQAAGTJtZGF0AAACrQYF//+p3EXpvebZSLeWLNgg2SPu73gyNjQgLSBjb3JlIDE1MiByMjg1NCBlOWE1OTAzIC0gSC4yNjQvTVBFRy00IEFWQyBjb2RlYyAtIENvcHlsZWZ0IDIwMDMtMjAxNyAtIGh0dHA6Ly93d3cudmlkZW9sYW4ub3JnL3gyNjQuaHRtbCAtIG9wdGlvbnM6IGNhYmFjPTEgcmVmPTMgZGVibG9jaz0xOjA6MCBhbmFseXNlPTB4MToweDExMSBtZT1oZXggc3VibWU9NyBwc3k9MSBwc3lfcmQ9MS4wMDowLjAwIG1peGVkX3JlZj0xIG1lX3JhbmdlPTE2IGNocm9tYV9tZT0xIHRyZWxsaXM9MSA4eDhkY3Q9MCBjcW09MCBkZWFkem9uZT0yMSwxMSBmYXN0X3Bza2lwPTEgY2hyb21hX3FwX29mZnNldD00IHRocmVhZHM9NiBsb29rYWhlYWRfdGhyZWFkcz0xIHNsaWNlZF90aHJlYWRzPTAgbnI9MCBkZWNpbWF0ZT0xIGludGVybGFjZWQ9MCBibHVyYXlfY29tcGF0PTAgY29uc3RyYWluZWRfaW50cmE9MCBiZnJhbWVzPTMgYl9weXJhbWlkPTIgYl9hZGFwdD0xIGJfYmlhcz0wIGRpcmVjdD0xIHdlaWdodGI9MSBvcGVuX2dvcD0wIHdlaWdodHA9MiBrZXlpbnQ9MjUwIGtleWludF9taW49MjUgc2NlbmVjdXQ9NDAgaW50cmFfcmVmcmVzaD0wIHJjX2xvb2thaGVhZD00MCByYz1jcmYgbWJ0cmVlPTEgY3JmPTIzLjAgcWNvbXA9MC42MCBxcG1pbj0wIHFwbWF4PTY5IHFwc3RlcD00IGlwX3JhdGlvPTEuNDAgYXE9MToxLjAwAIAAAAMeZYiEADf//vaH+BTZWBP+Wb/9DX/cj9uPrP1xYyEE31qvIejAGS+1H+b/rFFs6Z6UB/fgCJQAc24ZwpJw4v/ApLdW+BTLYTnE+Uwo5XT/KBbJHQMxP78No02q0tPZVj38XAELt3D/gWzD74cPCQ0EmJRQVAFaA6MlAvZm1VsHBTxuiCoewFjQLfPHC06IAjuGQIhgBGxNCDPPPsiXjaRnLVxfJ5OzbyTZqMlNGvr8ww00jY0uimeSz5ZgxqMl88hp3O1WpOZkOp7IkF8gFOVQKguIt9nZpukJRXCrD2jLTRhmcvTOLQz38+YUWRz0gB5mEWKBGChdCcST2j9fMiim2XWKNLocWX9n0f+qwbpIBjyZXOvhfKi2Q/L3moZz1Lgn8yOYWATWE67KzaYckDMUJMrAEWy+bW/0BNpF8zdydoDIvjSC9Y3wtxuoS7ZMw3vBm/iTGtW8gXt13F/08ylTXbqHVRtNQC9fDwA2+YWbcZWcbxjbrG709OgT8DS1cQHr85ioC8eO8d2Z8fWbq62a+CvCJwQuq+wD6FYYgwxzvIy+oidJOahz3lEC+1FAhqQ2bBRc3dPZe7NoyTz57/46j2maDec9tco14g9WgBBQZCHWmKTW54Uruk2iJATg1IJa3Vb40ute2V4Y4cq+jmBwrZHLOt6t7WDCIDD8YtCeVmQkLlMit76eWiJlz9q1+N/iEpZiI40XuEmI0FkurdIOzPnt3tTOaeOBwJ6zV8v1BwHJ+4DsHX8anTbcnxxjwTrVjg/c/zE5gRXSYlEPZzUULQPds9IbaomG48xQDfz5pjJpH+m62hl/qGRQHVFkAWKEBsBxxJIJ3Mmd0iXtG5LPtYONR0/cAECbsjBpMXvblQzSkE708+s4kMNYH19VhLF2ej4/SsyAwFCjF57d6sOpYA2jqoOieyWPFagZjSn+aKolmDnwiQcLlNPAuTVqDg0pof6xbYrSfgKNiQDK+wALu3ZNORf+YAhL57K8cWaSRX/Mg+wapiy0tdaqXxyNi/WSRxh2fl8p6/OrPCdWwGshvl2UABLQTTTANG3wABhRAAAAE0GaIWxDf/6nhABDTPjlFjlVuqQAAAAYQZpCPCGTKYQ7//6plgAjBRzrQ9X3yIfBAAAAHkGaZEnhDyZTBTw7//6plgAkPx5+XS8qzogW41WLgAAAABABnoNqQr8AOgrg1x4q2mBhAAAAIEGaiEnhDyZTAh3//qmWABgvhR79l6/U55LMWm4yoMyBAAAAH0GepkURPC//ABy2jzmWUxRjmWAeDmWQbqK9HHBnzeEAAAAPAZ7FdEK/ACfZYMGzHErNAAAADwGex2pCvwAnzbdKNIeK6wAAAB1BmsxJqEFomUwIb//+p4QAHn9g/m0u5lZqmtzwJwAAABBBnupFESwv/wASXPOzG3I/AAAADwGfCXRCvwAZx5N55xdFgAAAABABnwtqQr8AGSI7c60ML2FAAAAAGEGbEEmoQWyZTAhv//6nhAAS0fM1Lr24bQAAABJBny5FFSwv/wALpkhhc/7vXs0AAAAQAZ9NdEK/AA+HDAZIeTfxgQAAABABn09qQr8AD4sweS5nybGAAAAAG0GbUUmoQWyZTAhv//6nhAATb5Hf+vZnwRaegAAAABRBm3NJ4QpSZTBRUsO//qmWAACVgQAAAA8Bn5JqQr8ADzV80OtGG4AAAAASQZuXSeEOiZTAh3/+qZYAAJWAAAAADEGftUUVPC//AACygQAAABABn9R0Qr8ADwrAMR2XZgCAAAAAEAGf1mpCvwAPhzhrjKQr34EAAAAaQZvaSahBaJlMCHf//qmWAA6SZCTcOCj5uLEAAAAPQZ/4RREsK/8AF+JazWvAAAAADgGeGWpCvwAXnUTyaXFfAAAAFEGaHEmoQWyZTBRMO//+qZYAAJWAAAAAEAGeO2pCvwAXnUTyI6/gosEAAAASQZogSeEKUmUwId/+qZYAAJWBAAAAFEGeXkU0TC//ABEosnXUxD2+MrG0AAAAEAGefXRCvwAX4BTPK/JTdPAAAAAQAZ5/akK/ABfnbhNxn16ieQAAABxBmmRJqEFomUwId//+qZYADqfCj70TU6hBuDvzAAAAEkGegkURLC//ABFaA5/hlKUqWQAAABABnqF0Qr8AF+AUzyvyU3TwAAAAEAGeo2pCvwAPiC851TMb+MEAAAASQZqoSahBbJlMCG///qeEAAEnAAAAEEGexkUVLC//AAumTSKZ+KUAAAAQAZ7ldEK/AA+MShiNRwAYQQAAABABnudqQr8AD4gvOdUzG/jAAAAAEkGa7EmoQWyZTAhv//6nhAABJwAAABBBnwpFFSwv/wALpk0imfilAAAAEAGfKXRCvwAPjEoYjUcAGEAAAAAQAZ8rakK/AA+ILznVMxv4wAAAAB9Bmy5JqEFsmUwUTDf//qeEABJvo5+S9m3mWWJkdoYPAAAAEAGfTWpCvwAPMahzfD+JOdEAAAAZQZtPSeEKUmUwIb/+p4QADE+wf4Tgt0K0QQAAABtBm3JJ4Q6JlMCG//6nhAAHy9g/m0uo40JHTeAAAAASQZ+QRRE8K/8ABnCO3OsnylCAAAAADgGfsWpCvwAGcsQu96r/AAAAHkGbtUmoQWiZTAhv//6nhAAFI94YHN17M+BnR/gqQAAAABJBn9NFESwr/wAEFlAEApgHhcAAAAAOAZ/0akK/AAQYNKup1UkAAAAZQZv5SahBbJlMCGf//p4QABNviH+Mao9+YAAAABRBnhdFFSwv/wAEt5hMV1MsoGLLkQAAABABnjZ0Qr8ABnJFlXgRXnqBAAAAEAGeOGpCvwAGcJbTrwBQkYAAAAAZQZo6SahBbJlMCG///qeEAANP7B69mfBGuQAAABlBml1J4QpSZTAhn/6eEAAM3TTb79a/6ZnsAAAAEUGee0U0TCv/AAKzYVgkJXFdAAAADgGenGpCvwACs2JiuBj1AAAAGEGankmoQWiZTAhn//6eEAAT3gxz9L+7CQAAABpBmr9J4QpSZTAhn/6eEAAUavcaF4ANz+ed6AAAABhBmsBJ4Q6JlMCG//6nhAAFYxWjmv8VzHUAAAAZQZrhSeEPJlMCG//+p4QABYcVo6PuNmDGsAAAABlBmwJJ4Q8mUwId//6plgAC26WVmeQlIao1AAAAG0GbJknhDyZTAhv//qeEAAi3x0+4Ld7wbPl8wAAAABBBn0RFETwv/wAFQoDTkeuxAAAAEAGfY3RCvwAEl3He/31/lNEAAAAQAZ9lakK/AAcU1DoTY329oQAAABJBm2pJqEFomUwIb//+p4QAAScAAAAMQZ+IRREsL/8AALKAAAAAEAGfp3RCvwAEiVI78AH3VcAAAAAQAZ+pakK/AAcU1DoTY329oQAAABlBm61JqEFsmUwIZ//+nhAAFqr3GhdN92AcAAAAEkGfy0UVLCv/AAS3Yr2Fgv1tgAAAAA4Bn+xqQr8ABLdkx5wV7QAAABpBm+5JqEFsmUwIZ//+nhAAFzr3F/4jqEv/gQAAABlBmg9J4QpSZTAhv/6nhAAGHdWkEIn+XFuBAAAAGUGaMknhDomUwIZ//p4QABifX36bUVq8A9wAAAARQZ5QRRE8K/8ABR6UbzQsISEAAAAOAZ5xakK/AAUdsYyblcMAAAAZQZpzSahBaJlMCGf//p4QABdfdNjLk2Vf/AAAABlBmpRJ4QpSZTAhv/6nhAAF1+NOgrWZTkiAAAAAGEGatUnhDomUwIb//qeEAAWz3U4/w+rccwAAABlBmtZJ4Q8mUwId//6plgACzfJLSzo6nnzgAAAAFkGa+knhDyZTAhv//qeEAAg3x0+2j4EAAAAOQZ8YRRE8L/8ABPmVN6EAAAAQAZ83dEK/AAbCyrur8d41oAAAABABnzlqQr8ABsErYvV2HPHBAAAAEkGbPkmoQWiZTAhv//6nhAABJwAAAAxBn1xFESwv/wAAsoEAAAAQAZ97dEK/AAbCyrur8d41oQAAABABn31qQr8ABsErYvV2HPHAAAAAGUGbf0moQWyZTAhv//6nhAAFa91OP8Pq3IMAAAAeQZuCSeEKUmUwIZ/+nhAAL/7I6vMss+fbh8e9bkFxAAAAEkGfoEU0TCv/AAn1kG8BSPr4awAAABABn8FqQr8ACfWPHK/txEbBAAAAGUGbw0moQWiZTAhv//6nhAAMT7B69mfBFyUAAAAcQZvlSeEKUmUwURLDP/6eEABJU5xz+bX199vUwQAAABABngRqQr8ADzMweTA9fAmBAAAAGEGaBknhDomUwIb//qeEABNR8x5GJ/luwwAAABhBmilJ4Q8mUwIZ//6eEABzynHP4c5vrdMAAAASQZ5HRRE8K/8AGIduF2G+l6I4AAAAEAGeaGpCvwAZIFjXvNKzskAAAAAZQZpqSahBaJlMCGf//p4QALVwY5/DnN9aswAAABhBmotJ4QpSZTAhn/6eEAC2e6bGXJsq3twAAAAYQZqsSeEOiZTAhv/+p4QALZ7qcf4fVtwTAAAAGUGazUnhDyZTAhv//qeEAENQBZttn2fNVMEAAAAZQZruSeEPJlMCHf/+qZYAIj8edLOjqeSJwQAAADBBmxFJ4Q8mUwId//6plgBOeh3P4hBt/+EqYlMX/+EndXxf/4wnvp0ugx/7B3PbhuEAAAATQZ8vRRE8K/8AfFnzN6HVfgJhQAAAABABn1BqQr8AfFnzG6HJBxfMAAAAEkGbVUmoQWiZTAhv//6nhAABJwAAAAxBn3NFESwv/wAAsoAAAAASAZ+SdEK/AHxbDVAOaJlyHVBAAAAAEQGflGpCvwB8J1mvguD60FXdAAAAEkGbmUmoQWyZTAhv//6nhAABJwAAAAxBn7dFFSwv/wAAsoEAAAARAZ/WdEK/AHwa5g8/8oks1QUAAAARAZ/YakK/AHwnWa+C4PrQVdwAAAAaQZvcSahBbJlMCGf//p4QAmohx71tg52Oh4EAAAARQZ/6RRUsK/8AfxmLBISt9xsAAAAOAZ4bakK/AH8ZrFcCTG0AAAAaQZodSahBbJlMCGf//p4QAnohx71tg52Og4EAAAAYQZo+SeEKUmUwIZ/+nhACi17jQum+621sAAAAGEGaX0nhDomUwIZ//p4QAp1e40LpvuttTAAAABlBmmBJ4Q8mUwIZ//6eEAKvXuL/xHUJbaSBAAAAF0GagUnhDyZTAhv//qeEALTitHVQ220TAAAAHUGao0nhDyZTBRE8M//+nhAC5V+D0LpveAOz/L2hAAAAEAGewmpCvwCa7EeS5nyS64AAAAAYQZrESeEPJlMCGf/+nhAC6e6b6KlZr35PAAAAGUGa5UnhDyZTAhv//qeEAHn9g/wnBboSXcEAAAAYQZsGSeEPJlMCG//+p4QAT/3U4/w+rbc7AAAAHkGbKknhDyZTAhv//qeEAE2+OnvloEJ/S21K3TEfeQAAABFBn0hFETwv/wAuk+YoyZjAzAAAAA8Bn2d0Qr8APiXoDJLlu4AAAAAQAZ9pakK/AD+Goc3w/iSSkQAAABlBm2xJqEFomUwU8M/+nhABLUi/I6+/pgFgAAAAEAGfi2pCvwA+LPmN0OSDj8wAAAAZQZuNSeEKUmUwIb/+p4QAdo4z/Vb5j8Q3oQAAAB1Bm69J4Q6JlMFNEwz//p4QAdH19+m1A/CgzUiHwQAAAA8Bn85qQr8AYgi+ZtmRrccAAAAYQZvQSeEPJlMCG//+p4QAcb2D17M+CK8vAAAAGEGb8UnhDyZTAhv//qeEAG79g9ezPgivNwAAAB1BmhNJ4Q8mUwURPDv//qmWADae0v6/qtQshS58HwAAABABnjJqQr8AWJr5zrQwvIVAAAAAGEGaN0nhDyZTAhv//qeEAGvtQd2+wfrhKgAAABVBnlVFETwv/wA/iesYH6LFsFykGPEAAAAQAZ50dEK/AFQzRInxZijjcAAAABABnnZqQr8AWKwjyXM+SdGBAAAAGUGae0moQWiZTAhn//6eEAGn9ff02XNLD00AAAAVQZ6ZRREsL/8AP3/FbSuVyJHO31SYAAAAEAGeuHRCvwBa7R3lbKHpOsEAAAAPAZ66akK/ADoApTNsyNeBAAAAGkGavEmoQWyZTAhv//6nhABpaRP9VvmPxD5hAAAAHUGa3knhClJlMFFSwz/+nhACi17muOfza+vvttqRAAAADwGe/WpCvwCG7EeTA9e3LwAAABhBmv9J4Q6JlMCGf/6eEAKdXuNC6b7rbUwAAAAXQZsASeEPJlMCG//+p4QAsGK0dVDbbRsAAAAXQZshSeEPJlMCG//+p4QAtOK0dVDbbRMAAAAaQZtCSeEPJlMCHf/+qZYAXbSyuM2r//WkrKEAAAAeQZtmSeEPJlMCG//+p4QAunup+++vwXwKa6kO3Rg8AAAAFUGfhEURPC//AHP3b6LFtYMcOq1RYQAAAA8Bn6N0Qr8An2WDBsxxJc0AAAAQAZ+lakK/AKPSjeaYq2kEwQAAACFBm6pJqEFomUwIZ//+nhAEkOEcyC7KX51Ko/QXn+jBb6UAAAATQZ/IRREsL/8Atc+vXIRD2CWH5AAAABABn+d0Qr8An2aJE+LMUbSQAAAAEAGf6WpCvwDyc4a95pWbQcEAAAAZQZvrSahBbJlMCG///qeEASX46Y/w+rbZVQAAABhBmgxJ4QpSZTAhv/6nhAEd+jmgrWZTWS8AAAAYQZovSeEOiZTAhn/+nhAEUSD3MEP81IXdAAAAEUGeTUURPCv/AOezFgkJW+07AAAADgGebmpCvwDns1iuBJTtAAAAGkGacEmoQWiZTAhv//6nhAIFAFm2VDT9RI+AAAAAHUGakknhClJlMFESwz/+nhAHx7UfHXIySrco8mDAAAAADwGesWpCvwFsaymbZkax6QAAABhBmrNJ4Q6JlMCGf/6eEAcbr7u05u24xvQAAAAYQZrUSeEPJlMCG//+p4QBxu+zH+H1VjGDAAAAGEGa9UnhDyZTAhv//qeEAbLxp0FazJP5QQAAABlBmxZJ4Q8mUwId//6plgDT+SWlnR1LsmLAAAAAHEGbOknhDyZTAh3//qmWAMv6OfLbeoeDhTHNcccAAAARQZ9YRRE8L/8A4iauEGu6P10AAAAPAZ93dEK/ATa0IDJLlJeAAAAAEAGfeWpCvwE/pRvNMVbRxsEAAAAXQZt+SahBaJlMCG///qeEAPL7B/l2m4AAAAAOQZ+cRREsL/8AktABbKEAAAAQAZ+7dEK/AMtnJxHZdlTjgQAAAA8Bn71qQr8A0oLGiVzy6YEAAAAaQZuhSahBbJlMCG///qeEAPyDwp1nT7ra3oAAAAARQZ/fRRUsK/8A0rq2CQlb7V8AAAAOAZ/gakK/ANK6+K4ElXwAAAAYQZvkSahBbJlMCGf//p4QA+Hr7wmZqOg5AAAAEkGeAkUVLCv/AUjB13d/SKx4QAAAAA4BniNqQr8BSG3XceBjwwAAABlBmiVJqEFsmUwIZ//+nhADy+vu7Tm7i2uPAAAAGEGaRknhClJlMCGf/p4QA7Xr7u05u4trpwAAABpBmmlL4QhDokRggoB/IB/YeAIV//44QAARcQAAACdBnodFETwr/wKvY+1BxN2qw0km5aqGC4CvqCN+zbIgXd1j7nwYY/AAAAAiAZ6oakK/Aq9j7UHE3arDSSblqoYLhFtqdlEN23pKve5PZgAACzBtb292AAAAbG12aGQAAAAAAAAAAAAAAAAAAAPoAAAfkAABAAABAAAAAAAAAAAAAAAAAQAAAAAAAAAAAAAAAAAAAAEAAAAAAAAAAAAAAAAAAEAAAAAAAAAAAAAAAAAAAAAAAAAAAAAAAAAAAAAAAAACAAAKWnRyYWsAAABcdGtoZAAAAAMAAAAAAAAAAAAAAAEAAAAAAAAfkAAAAAAAAAAAAAAAAAAAAAAAAQAAAAAAAAAAAAAAAAAAAAEAAAAAAAAAAAAAAAAAAEAAAAABEAAAARAAAAAAACRlZHRzAAAAHGVsc3QAAAAAAAAAAQAAH5AAAAQAAAEAAAAACdJtZGlhAAAAIG1kaGQAAAAAAAAAAAAAAAAAADIAAAGUAFXEAAAAAAAtaGRscgAAAAAAAAAAdmlkZQAAAAAAAAAAAAAAAFZpZGVvSGFuZGxlcgAAAAl9bWluZgAAABR2bWhkAAAAAQAAAAAAAAAAAAAAJGRpbmYAAAAcZHJlZgAAAAAAAAABAAAADHVybCAAAAABAAAJPXN0YmwAAACVc3RzZAAAAAAAAAABAAAAhWF2YzEAAAAAAAAAAQAAAAAAAAAAAAAAAAAAAAABEAEQAEgAAABIAAAAAAAAAAEAAAAAAAAAAAAAAAAAAAAAAAAAAAAAAAAAAAAAAAAAAAAY//8AAAAvYXZjQwH0AA3/4QAXZ/QADZGbKCIR0IAAAAMAgAAAGQeKFMsBAAVo6+PESAAAABhzdHRzAAAAAAAAAAEAAADKAAACAAAAABRzdHNzAAAAAAAAAAEAAAABAAAFCGN0dHMAAAAAAAAAnwAAAAMAAAQAAAAAAQAABgAAAAABAAACAAAAAAEAAAoAAAAAAQAABAAAAAABAAAAAAAAAAEAAAIAAAAAAQAACgAAAAABAAAEAAAAAAEAAAAAAAAAAQAAAgAAAAABAAAKAAAAAAEAAAQAAAAAAQAAAAAAAAABAAACAAAAAAEAAAQAAAAAAQAABgAAAAABAAACAAAAAAEAAAoAAAAAAQAABAAAAAABAAAAAAAAAAEAAAIAAAAAAQAACAAAAAACAAACAAAAAAEAAAYAAAAAAQAAAgAAAAABAAAKAAAAAAEAAAQAAAAAAQAAAAAAAAABAAACAAAAAAEAAAoAAAAAAQAABAAAAAABAAAAAAAAAAEAAAIAAAAAAQAACgAAAAABAAAEAAAAAAEAAAAAAAAAAQAAAgAAAAABAAAKAAAAAAEAAAQAAAAAAQAAAAAAAAABAAACAAAAAAEAAAYAAAAAAQAAAgAAAAABAAAEAAAAAAEAAAgAAAAAAgAAAgAAAAABAAAIAAAAAAIAAAIAAAAAAQAACgAAAAABAAAEAAAAAAEAAAAAAAAAAQAAAgAAAAABAAAEAAAAAAEAAAgAAAAAAgAAAgAAAAAFAAAEAAAAAAEAAAoAAAAAAQAABAAAAAABAAAAAAAAAAEAAAIAAAAAAQAACgAAAAABAAAEAAAAAAEAAAAAAAAAAQAAAgAAAAABAAAIAAAAAAIAAAIAAAAAAgAABAAAAAABAAAIAAAAAAIAAAIAAAAABAAABAAAAAABAAAKAAAAAAEAAAQAAAAAAQAAAAAAAAABAAACAAAAAAEAAAoAAAAAAQAABAAAAAABAAAAAAAAAAEAAAIAAAAAAQAABAAAAAABAAAIAAAAAAIAAAIAAAAAAQAABAAAAAABAAAGAAAAAAEAAAIAAAAAAQAABAAAAAABAAAIAAAAAAIAAAIAAAAABQAABAAAAAABAAAIAAAAAAIAAAIAAAAAAQAACgAAAAABAAAEAAAAAAEAAAAAAAAAAQAAAgAAAAABAAAKAAAAAAEAAAQAAAAAAQAAAAAAAAABAAACAAAAAAEAAAgAAAAAAgAAAgAAAAAFAAAEAAAAAAEAAAYAAAAAAQAAAgAAAAADAAAEAAAAAAEAAAoAAAAAAQAABAAAAAABAAAAAAAAAAEAAAIAAAAAAQAABgAAAAABAAACAAAAAAEAAAQAAAAAAQAABgAAAAABAAACAAAAAAIAAAQAAAAAAQAABgAAAAABAAACAAAAAAEAAAoAAAAAAQAABAAAAAABAAAAAAAAAAEAAAIAAAAAAQAACgAAAAABAAAEAAAAAAEAAAAAAAAAAQAAAgAAAAABAAAEAAAAAAEAAAYAAAAAAQAAAgAAAAAEAAAEAAAAAAEAAAoAAAAAAQAABAAAAAABAAAAAAAAAAEAAAIAAAAAAQAACgAAAAABAAAEAAAAAAEAAAAAAAAAAQAAAgAAAAACAAAEAAAAAAEAAAgAAAAAAgAAAgAAAAABAAAEAAAAAAEAAAYAAAAAAQAAAgAAAAAEAAAEAAAAAAEAAAoAAAAAAQAABAAAAAABAAAAAAAAAAEAAAIAAAAAAQAACgAAAAABAAAEAAAAAAEAAAAAAAAAAQAAAgAAAAABAAAIAAAAAAIAAAIAAAAAAQAACAAAAAACAAACAAAAAAIAAAQAAAAAAQAACAAAAAACAAACAAAAABxzdHNjAAAAAAAAAAEAAAABAAAAygAAAAEAAAM8c3RzegAAAAAAAAAAAAAAygAABdMAAAAXAAAAHAAAACIAAAAUAAAAJAAAACMAAAATAAAAEwAAACEAAAAUAAAAEwAAABQAAAAcAAAAFgAAABQAAAAUAAAAHwAAABgAAAATAAAAFgAAABAAAAAUAAAAFAAAAB4AAAATAAAAEgAAABgAAAAUAAAAFgAAABgAAAAUAAAAFAAAACAAAAAWAAAAFAAAABQAAAAWAAAAFAAAABQAAAAUAAAAFgAAABQAAAAUAAAAFAAAACMAAAAUAAAAHQAAAB8AAAAWAAAAEgAAACIAAAAWAAAAEgAAAB0AAAAYAAAAFAAAABQAAAAdAAAAHQAAABUAAAASAAAAHAAAAB4AAAAcAAAAHQAAAB0AAAAfAAAAFAAAABQAAAAUAAAAFgAAABAAAAAUAAAAFAAAAB0AAAAWAAAAEgAAAB4AAAAdAAAAHQAAABUAAAASAAAAHQAAAB0AAAAcAAAAHQAAABoAAAASAAAAFAAAABQAAAAWAAAAEAAAABQAAAAUAAAAHQAAACIAAAAWAAAAFAAAAB0AAAAgAAAAFAAAABwAAAAcAAAAFgAAABQAAAAdAAAAHAAAABwAAAAdAAAAHQAAADQAAAAXAAAAFAAAABYAAAAQAAAAFgAAABUAAAAWAAAAEAAAABUAAAAVAAAAHgAAABUAAAASAAAAHgAAABwAAAAcAAAAHQAAABsAAAAhAAAAFAAAABwAAAAdAAAAHAAAACIAAAAVAAAAEwAAABQAAAAdAAAAFAAAAB0AAAAhAAAAEwAAABwAAAAcAAAAIQAAABQAAAAcAAAAGQAAABQAAAAUAAAAHQAAABkAAAAUAAAAEwAAAB4AAAAhAAAAEwAAABwAAAAbAAAAGwAAAB4AAAAiAAAAGQAAABMAAAAUAAAAJQAAABcAAAAUAAAAFAAAAB0AAAAcAAAAHAAAABUAAAASAAAAHgAAACEAAAATAAAAHAAAABwAAAAcAAAAHQAAACAAAAAVAAAAEwAAABQAAAAbAAAAEgAAABQAAAATAAAAHgAAABUAAAASAAAAHAAAABYAAAASAAAAHQAAABwAAAAeAAAAKwAAACYAAAAUc3RjbwAAAAAAAAABAAAAMAAAAGJ1ZHRhAAAAWm1ldGEAAAAAAAAAIWhkbHIAAAAAAAAAAG1kaXJhcHBsAAAAAAAAAAAAAAAALWlsc3QAAAAlqXRvbwAAAB1kYXRhAAAAAQAAAABMYXZmNTcuODMuMTAw\" type=\"video/mp4\" />\n",
       "             </video>"
      ],
      "text/plain": [
       "<IPython.core.display.HTML object>"
      ]
     },
     "execution_count": 67,
     "metadata": {},
     "output_type": "execute_result"
    }
   ],
   "source": [
    "env = Environment(grid_size=size, max_time=T, temperature=0.3)\n",
    "agent = DQN_CNN(size, lr=.1, epsilon = 0.1, memory_size=2000, batch_size = 32)\n",
    "train(agent,env,epochs_train,prefix='cnn_train')\n",
    "HTML(display_videos('cnn_train10.mp4'))"
   ]
  },
  {
   "cell_type": "markdown",
   "metadata": {},
   "source": [
    "***\n",
    "***\n",
    "__Question 9__ Test both algorithms and compare their performances. Which issue(s) do you observe? Observe also different behaviors by changing the temperature."
   ]
  },
  {
   "cell_type": "code",
   "execution_count": 68,
   "metadata": {},
   "outputs": [
    {
     "name": "stdout",
     "output_type": "stream",
     "text": [
      "Test of the CNN\n",
      "Win/lose count 6.5/1.0. Average score (5.5)\n",
      "Win/lose count 4.5/2.0. Average score (4.0)\n",
      "Win/lose count 6.5/0. Average score (4.833333333333333)\n",
      "Win/lose count 5.5/1.0. Average score (4.75)\n",
      "Win/lose count 9.0/1.0. Average score (5.4)\n",
      "Win/lose count 4.5/3.0. Average score (4.75)\n",
      "Win/lose count 6.5/0. Average score (5.0)\n",
      "Win/lose count 5.0/2.0. Average score (4.75)\n",
      "Win/lose count 7.5/1.0. Average score (4.944444444444445)\n",
      "Win/lose count 9.0/0. Average score (5.35)\n",
      "Win/lose count 5.0/2.0. Average score (5.136363636363637)\n",
      "Final score: 5.136363636363637\n",
      "Test of the FC\n",
      "Win/lose count 9.5/2.0. Average score (7.5)\n",
      "Win/lose count 10.0/3.0. Average score (7.25)\n",
      "Win/lose count 13.0/3.0. Average score (8.166666666666666)\n",
      "Win/lose count 16.5/1.0. Average score (10.0)\n",
      "Win/lose count 8.0/1.0. Average score (9.4)\n",
      "Win/lose count 6.0/2.0. Average score (8.5)\n",
      "Win/lose count 12.5/1.0. Average score (8.928571428571429)\n",
      "Win/lose count 16.0/3.0. Average score (9.4375)\n",
      "Win/lose count 25.0/2.0. Average score (10.944444444444445)\n",
      "Win/lose count 11.0/6.0. Average score (10.35)\n",
      "Win/lose count 14.5/2.0. Average score (10.545454545454545)\n",
      "Final score: 10.545454545454545\n"
     ]
    }
   ],
   "source": [
    "env = Environment(grid_size=size, max_time=T,temperature=0.9)\n",
    "agent_cnn = DQN_CNN(size, lr=.02, epsilon = 0.1, memory_size=2000, batch_size = 32)\n",
    "agent_cnn.load(name_weights='cnn_trainmodel.h5',name_model='cnn_trainmodel.json')\n",
    "\n",
    "agent_fc = DQN_FC(size, lr=.1, epsilon = 0.1, memory_size=2000, batch_size = 32)\n",
    "agent_cnn.load(name_weights='fc_trainmodel.h5',name_model='fc_trainmodel.json')\n",
    "print('Test of the CNN')\n",
    "test(agent_cnn,env,epochs_test,prefix='cnn_test')\n",
    "print('Test of the FC')\n",
    "test(agent_fc,env,epochs_test,prefix='fc_test')"
   ]
  },
  {
   "cell_type": "code",
   "execution_count": 69,
   "metadata": {},
   "outputs": [
    {
     "data": {
      "text/html": [
       "<video alt=\"test\" controls>\n",
       "                <source src=\"data:video/mp4;base64,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\" type=\"video/mp4\" />\n",
       "             </video>"
      ],
      "text/plain": [
       "<IPython.core.display.HTML object>"
      ]
     },
     "execution_count": 69,
     "metadata": {},
     "output_type": "execute_result"
    }
   ],
   "source": [
    "HTML(display_videos('cnn_test10.mp4'))"
   ]
  },
  {
   "cell_type": "code",
   "execution_count": 70,
   "metadata": {},
   "outputs": [
    {
     "data": {
      "text/html": [
       "<video alt=\"test\" controls>\n",
       "                <source src=\"data:video/mp4;base64,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\" type=\"video/mp4\" />\n",
       "             </video>"
      ],
      "text/plain": [
       "<IPython.core.display.HTML object>"
      ]
     },
     "execution_count": 70,
     "metadata": {},
     "output_type": "execute_result"
    }
   ],
   "source": [
    "HTML(display_videos('fc_test10.mp4'))"
   ]
  },
  {
   "cell_type": "markdown",
   "metadata": {},
   "source": [
    "* Comparaison :\n",
    "    \n",
    "In most cases (temperature = 0.01, 0.3, 0.5 ...), the CNN performs better than the FC (higher average score), \n",
    "although for a high temperature (0.9) the FC starts performing better.\n",
    "\n",
    "* Issue :\n",
    "    \n",
    "By watching the produced videos, we notice that the rat remains stuck in the same area of the board, \n",
    "which is a problem since it doesn't get to explore all the board before time runs out (game over).\n",
    "\n",
    "* Temperature:\n",
    "\n",
    "We see an overall higher score with higher temperatures, \n",
    "because a higher temperature increases the chance of having cells filled with cheese, \n",
    "since it affects the binomial distribution which fills the board in the reset function of the Environment class."
   ]
  },
  {
   "cell_type": "markdown",
   "metadata": {},
   "source": [
    "***\n",
    "\n",
    "The algorithm tends to not explore the map which can be an issue. We propose two ideas in order to encourage exploration:\n",
    "1. Incorporating a decreasing $\\epsilon$-greedy exploration. You can use the method ```set_epsilon```\n",
    "2. Append via the environment a new state that describes if a cell has been visited or not\n",
    "\n",
    "***\n",
    "__Question 10__ Design a new ```train_explore``` function and environment class ```EnvironmentExploring``` to tackle the issue of exploration.\n",
    "\n"
   ]
  },
  {
   "cell_type": "code",
   "execution_count": 83,
   "metadata": {},
   "outputs": [],
   "source": [
    "def train_explore(agent, env, epoch, prefix='', decrease_rate=0.95):\n",
    "    # Number of won games\n",
    "    score = 0\n",
    "    loss = 0\n",
    "\n",
    "    for e in range(epoch):\n",
    "        # At each epoch, we restart to a fresh game and get the initial state\n",
    "        state = env.reset()\n",
    "        \n",
    "        # This assumes that the games will terminate\n",
    "        game_over = False\n",
    "\n",
    "        win = 0\n",
    "        lose = 0\n",
    "\n",
    "        while not game_over:\n",
    "            # epsilon decreases with each iteration\n",
    "            agent.set_epsilon(np.float(agent.epsilon)*decrease_rate)\n",
    "            \n",
    "            # The agent performs an action\n",
    "            action = agent.act(state)\n",
    "\n",
    "            # Apply an action to the environment, get the next state, the reward\n",
    "            # and if the games end\n",
    "            prev_state = state\n",
    "            state, reward, game_over = env.act(action, train=True)\n",
    "\n",
    "            # Update the counters\n",
    "            if reward > 0:\n",
    "                win = win + reward\n",
    "            if reward < 0:\n",
    "                lose = lose -reward\n",
    "\n",
    "            # Apply the reinforcement strategy\n",
    "            loss = agent.reinforce(prev_state, state,  action, reward, game_over)\n",
    "\n",
    "        # Save as a mp4\n",
    "        env.draw(prefix+str(e))\n",
    "\n",
    "        # Update stats\n",
    "        score += win-lose\n",
    "\n",
    "        print(\"Epoch {:03d}/{:03d} | Loss {:.4f} | Win/lose count {}/{} ({})\"\n",
    "              .format(e, epoch, loss, win, lose, win-lose))\n",
    "        agent.save(name_weights=prefix+'model.h5',name_model=prefix+'model.json')\n",
    "        \n",
    "class EnvironmentExploring(Environment):\n",
    "    def __init__(self, grid_size=10, max_time=500, temperature=0.1):\n",
    "        super(EnvironmentExploring, self).__init__()\n",
    "        \n",
    "        #The rat hasn't been on any cell yet, so no malus for going back to a cell\n",
    "        self.malus_position = np.zeros([self.grid_size, self.grid_size])\n",
    "        pass\n",
    "\n",
    "    def act(self, action, train = True):\n",
    "        \"\"\"This function returns the new state, reward and decides if the\n",
    "        game ends.\"\"\"\n",
    "\n",
    "        self.get_frame(int(self.t))\n",
    "\n",
    "        self.position = np.zeros((self.grid_size, self.grid_size))\n",
    "\n",
    "        self.position[0:2,:]= -1\n",
    "        self.position[:,0:2] = -1\n",
    "        self.position[-2:, :] = -1\n",
    "        self.position[:, -2:] = -1\n",
    "\n",
    "        self.position[self.x, self.y] = 1\n",
    "        \n",
    "        if action == 0:\n",
    "            if self.x == self.grid_size-3:\n",
    "                self.x = self.x-1\n",
    "            else:\n",
    "                self.x = self.x + 1\n",
    "        elif action == 1:\n",
    "            if self.x == 2:\n",
    "                self.x = self.x+1\n",
    "            else:\n",
    "                self.x = self.x-1\n",
    "        elif action == 2:\n",
    "            if self.y == self.grid_size - 3:\n",
    "                self.y = self.y - 1\n",
    "            else:\n",
    "                self.y = self.y + 1\n",
    "        elif action == 3:\n",
    "            if self.y == 2:\n",
    "                self.y = self.y + 1\n",
    "            else:\n",
    "                self.y = self.y - 1\n",
    "        else:\n",
    "            RuntimeError('Error: action not recognized')\n",
    "        \n",
    "        self.t = self.t + 1\n",
    "        \n",
    "        reward = 0\n",
    "        if train:\n",
    "            #If the rat has already been on the cell : malus\n",
    "            reward -= self.malus_position[self.x, self.y]\n",
    "\n",
    "        # This is a malus for the next time he passes by this cell\n",
    "        self.malus_position[self.x, self.y] = 0.01\n",
    "        reward = reward + self.board[self.x, self.y]\n",
    "        self.board[self.x, self.y] = 0\n",
    "        game_over = self.t > self.max_time\n",
    "        \n",
    "        # 3 \"feature\" states instead of 2\n",
    "        state = np.concatenate((self.malus_position.reshape(self.grid_size, self.grid_size,1),\n",
    "                                self.board.reshape(self.grid_size, self.grid_size,1),\n",
    "                        self.position.reshape(self.grid_size, self.grid_size,1)),axis=2)\n",
    "        state = state[self.x-2:self.x+3,self.y-2:self.y+3,:]\n",
    "\n",
    "        return state, reward, game_over\n",
    "    \n",
    "    def reset(self):\n",
    "        \"\"\"This function resets the game and returns the initial state\"\"\"\n",
    "\n",
    "        self.x = np.random.randint(3, self.grid_size-3, size=1)[0]\n",
    "        self.y = np.random.randint(3, self.grid_size-3, size=1)[0]\n",
    "\n",
    "\n",
    "        bonus = 0.5*np.random.binomial(1,self.temperature,size=self.grid_size**2)\n",
    "        bonus = bonus.reshape(self.grid_size,self.grid_size)\n",
    "\n",
    "        malus = -1.0*np.random.binomial(1,self.temperature,size=self.grid_size**2)\n",
    "        malus = malus.reshape(self.grid_size, self.grid_size)\n",
    "\n",
    "        self.to_draw = np.zeros((self.max_time+2, self.grid_size*self.scale, self.grid_size*self.scale, 3))\n",
    "        \n",
    "        malus[bonus>0]=0\n",
    "        self.board = bonus + malus\n",
    "\n",
    "        self.position = np.zeros((self.grid_size, self.grid_size))\n",
    "        self.position[0:2,:] = -1\n",
    "        self.position[:,0:2] = -1\n",
    "        self.position[-2:,:] = -1\n",
    "        self.position[:,-2:] = -1\n",
    "        self.board[self.x,self.y] = 0\n",
    "       \n",
    "        self.malus_position[self.x, self.y] = 0\n",
    "\n",
    "        self.t = 0\n",
    "\n",
    "        state = np.concatenate((self.malus_position.reshape(self.grid_size, self.grid_size,1),\n",
    "                                self.board.reshape(self.grid_size, self.grid_size,1),\n",
    "                                self.position.reshape(self.grid_size, self.grid_size,1)),axis=2)\n",
    "        \n",
    "        state = state[self.x-2:self.x+3,self.y-2:self.y+3,:]\n",
    "        return state"
   ]
  },
  {
   "cell_type": "code",
   "execution_count": null,
   "metadata": {},
   "outputs": [
    {
     "name": "stdout",
     "output_type": "stream",
     "text": [
      "Epoch 000/011 | Loss 0.0004 | Win/lose count 2.5/9.499999999999906 (-6.999999999999906)\n",
      "Epoch 001/011 | Loss 0.0004 | Win/lose count 0.99/6.939999999999898 (-5.949999999999898)\n",
      "Epoch 002/011 | Loss 0.0017 | Win/lose count 0.5/5.929999999999939 (-5.429999999999939)\n",
      "Epoch 003/011 | Loss 0.0001 | Win/lose count 0/4.989999999999938 (-4.989999999999938)\n"
     ]
    }
   ],
   "source": [
    "# Training\n",
    "env = EnvironmentExploring(grid_size=size, max_time=T, temperature=0.3)\n",
    "agent = DQN_CNN(size, lr=.06, epsilon = 0.9, memory_size=2000, batch_size = 32,n_state=3)\n",
    "train_explore(agent, env, epochs_train, prefix='cnn_train_explore', decrease_rate=0.95)\n",
    "HTML(display_videos('cnn_train_explore10.mp4'))"
   ]
  },
  {
   "cell_type": "code",
   "execution_count": 73,
   "metadata": {},
   "outputs": [
    {
     "name": "stdout",
     "output_type": "stream",
     "text": [
      "Win/lose count 1.96/4.959999999999939. Average score (-2.9999999999999387)\n",
      "Win/lose count 0.98/4.989999999999938. Average score (-3.5049999999999386)\n",
      "Win/lose count 0.98/5.969999999999916. Average score (-3.999999999999931)\n",
      "Win/lose count 0/4.9699999999999385. Average score (-4.242499999999933)\n",
      "Win/lose count 0/5.009999999999938. Average score (-4.395999999999934)\n",
      "Win/lose count 1.47/4.959999999999939. Average score (-4.244999999999934)\n",
      "Win/lose count 0.5/4.9699999999999385. Average score (-4.277142857142793)\n",
      "Win/lose count 0.98/4.989999999999938. Average score (-4.2437499999999355)\n",
      "Win/lose count 0/5.009999999999938. Average score (-4.328888888888825)\n",
      "Win/lose count 0/5.009999999999938. Average score (-4.396999999999936)\n",
      "Win/lose count 1.47/4.9699999999999385. Average score (-4.315454545454482)\n",
      "Final score: -4.315454545454482\n"
     ]
    },
    {
     "data": {
      "text/html": [
       "<video alt=\"test\" controls>\n",
       "                <source src=\"data:video/mp4;base64,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\" type=\"video/mp4\" />\n",
       "             </video>"
      ],
      "text/plain": [
       "<IPython.core.display.HTML object>"
      ]
     },
     "execution_count": 73,
     "metadata": {},
     "output_type": "execute_result"
    }
   ],
   "source": [
    "# Evaluation\n",
    "test(agent,env,epochs_test,prefix='cnn_test_explore')\n",
    "HTML(display_videos('cnn_test_explore10.mp4'))"
   ]
  },
  {
   "cell_type": "markdown",
   "metadata": {},
   "source": [
    "***\n",
    "***\n",
    "__BONUS question__ Use the expert DQN from the previous question to generate some winning games. Train a model that mimicks its behavior. Compare the performances."
   ]
  },
  {
   "cell_type": "markdown",
   "metadata": {},
   "source": []
  },
  {
   "cell_type": "markdown",
   "metadata": {},
   "source": [
    "***"
   ]
  }
 ],
 "metadata": {
  "kernelspec": {
   "display_name": "Python 3",
   "language": "python",
   "name": "python3"
  },
  "language_info": {
   "codemirror_mode": {
    "name": "ipython",
    "version": 3
   },
   "file_extension": ".py",
   "mimetype": "text/x-python",
   "name": "python",
   "nbconvert_exporter": "python",
   "pygments_lexer": "ipython3",
   "version": "3.6.8"
  }
 },
 "nbformat": 4,
 "nbformat_minor": 2
}
